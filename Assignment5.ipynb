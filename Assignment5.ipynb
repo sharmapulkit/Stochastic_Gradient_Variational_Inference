{
 "cells": [
  {
   "cell_type": "code",
   "execution_count": 166,
   "metadata": {},
   "outputs": [],
   "source": [
    "import numpy as np\n",
    "import pandas as pd\n",
    "from PIL import Image\n",
    "from IPython.display import display\n",
    "from matplotlib import pyplot as plt\n",
    "import sys\n",
    "from skimage.metrics import structural_similarity as ssim\n",
    "from multiprocessing import Pool, Process, Manager\n",
    "import time\n",
    "import itertools\n",
    "import operator\n",
    "import pickle as pk\n",
    "from skimage import filters\n",
    "\n",
    "import autograd"
   ]
  },
  {
   "cell_type": "code",
   "execution_count": 285,
   "metadata": {},
   "outputs": [],
   "source": [
    "X_train = np.loadtxt('../Data/X_train.csv')\n",
    "X_test = np.loadtxt('../Data/X_test.csv')\n",
    "Y_train = np.loadtxt('../Data/Y_train.csv')\n",
    "Y_test = np.loadtxt('../Data/Y_test.csv')"
   ]
  },
  {
   "cell_type": "code",
   "execution_count": 483,
   "metadata": {},
   "outputs": [],
   "source": [
    "def sigma(x):\n",
    "    return 1/(1 + np.exp(x))\n",
    "\n",
    "def lae(s, t):\n",
    "    \"\"\"\n",
    "    Compute log add exp \n",
    "    Return log(exp(s) + exp(t))\n",
    "    \"\"\"\n",
    "    return np.logaddexp(s, t)\n",
    "\n",
    "def logp_conditional(y, x, z):\n",
    "    \"\"\"\n",
    "    Compute condition logistic probability\n",
    "    \"\"\"\n",
    "    return -lae(0, -y*(z@x))\n",
    "\n",
    "def grad_logp_conditional(y, x, z):\n",
    "    \"\"\"\n",
    "    Compute and return the gradient computed at z\n",
    "    \"\"\"\n",
    "    grad = y*x*sigma(-y*(z@x))\n",
    "    return grad\n",
    "\n",
    "def int_estimate(y, x, w, dim=1, var=0.5, msize=2):\n",
    "    \"\"\"\n",
    "    Single Point Estimate of Integral\n",
    "    \"\"\"\n",
    "    ## Sample z_o from Normal distribution\n",
    "    e_o = np.random.normal(0, 1, dim)\n",
    "    e_o = np.reshape(e_o, (1, dim))\n",
    "    z_o = np.sqrt(var)*e_o + w\n",
    "    \n",
    "    first_term = np.linalg.norm(z_o)**2\n",
    "    third_term = np.log(np.sqrt(2*np.pi))\n",
    "    \n",
    "    samples = np.random.choice(range(len(y)), msize, replace=False)\n",
    "    second_term = 0\n",
    "    for sample_idx in samples:\n",
    "        second_term += lae(0, -y[sample_idx]*(z_o@x[sample_idx]))\n",
    "    second_term = (len(y)/msize)*second_term\n",
    "    \n",
    "    q_term = -np.exp(-0.5*np.linalg.norm(z_o)**2)/np.sqrt(2*np.pi*var)\n",
    "    return q_term*(first_term + second_term + third_term)\n",
    "\n",
    "def grad_int(y, x, w, dim=1, var=0.5, msize=2):\n",
    "    \"\"\"\n",
    "    Return the gradient of the integral computed at w\n",
    "    \"\"\"\n",
    "    e_o = np.random.normal(0, 1, dim)\n",
    "    e_o = np.reshape(e_o, (1, dim))\n",
    "    z_o = np.sqrt(var)*e_o + w\n",
    "    \n",
    "    grad = -z_o\n",
    "    minibatch = np.random.choice(range(len(y)), msize, replace=False)\n",
    "    batch_grad = np.zeros(np.shape(x[0]))\n",
    "    for idx in minibatch:\n",
    "        batch_grad += y[idx]*x[idx]*sigma(-y[idx]*(z_o@x[idx]))\n",
    "    \n",
    "    grad += (len(y)/msize)*batch_grad\n",
    "    q_term = np.exp(-0.5*(np.linalg.norm(e_o)**2))/np.sqrt(2*np.pi)\n",
    "    grad = q_term*grad\n",
    "    return grad\n",
    "    "
   ]
  },
  {
   "cell_type": "code",
   "execution_count": 286,
   "metadata": {},
   "outputs": [
    {
     "name": "stdout",
     "output_type": "stream",
     "text": [
      "-0.041611213639737236\n",
      "-0.0006987487207564459\n",
      "-0.20151912776741782\n",
      "[-0.40272568]\n",
      "[0.55978532]\n"
     ]
    }
   ],
   "source": [
    "np.random.seed(482)\n",
    "dummy_x = np.array([[2, 1], [-1, 1], [-1, 1],[-1, 1],[-1, 1]])\n",
    "dummy_y = np.array([-1, 1, 1, 1, 1])\n",
    "dummy_w = np.array([1.0, 1.0])\n",
    "dummy_w_2 = np.array([1.00, 1.0000])\n",
    "dummy_w_3 = np.array([1.0000, 1.0001])\n",
    "i1 = int_estimate(dummy_y, dummy_x, dummy_w, dim=len(dummy_w), msize=5)\n",
    "i2 = int_estimate(dummy_y, dummy_x, dummy_w_2, dim=len(dummy_w), msize=5)\n",
    "i3 = int_estimate(dummy_y, dummy_x, dummy_w_3, dim=len(dummy_w), msize=5)\n",
    "print((i3-i1))\n",
    "print((i2-i1))"
   ]
  },
  {
   "cell_type": "code",
   "execution_count": 479,
   "metadata": {},
   "outputs": [
    {
     "name": "stdout",
     "output_type": "stream",
     "text": [
      "[10.61348736  9.72971582 -2.83331562 -9.8669262  14.4504671 ]\n",
      "[[ 0.01708532  0.21604235 -0.70727651  0.73913333 -0.92146161]]\n"
     ]
    }
   ],
   "source": [
    "def _int_estimate(w):\n",
    "    return int_estimate(Y_train, X_train, w, len(w), msize=100)\n",
    "\n",
    "np.random.seed(482)\n",
    "grad_f = autograd.grad(_int_estimate)\n",
    "wo = np.zeros(X_train.shape[1])\n",
    "print(grad_f(wo))\n",
    "print(grad_int(Y_train, X_train, wo, dim=len(wo), msize=100))"
   ]
  },
  {
   "cell_type": "markdown",
   "metadata": {},
   "source": [
    "## Q4 Compute SGVI"
   ]
  },
  {
   "cell_type": "code",
   "execution_count": 484,
   "metadata": {},
   "outputs": [],
   "source": [
    "def sgvi(_X_train, _Y_train, step_size=0.005, t_max=10000):\n",
    "    w = np.zeros(_X_train.shape[1])\n",
    "    w_history = []\n",
    "    w_history.append(w)\n",
    "    for t in range(0, t_max):\n",
    "        g = grad_int(_Y_train, _X_train, w, dim=len(w), msize=20)\n",
    "#         g = grad_f(w)\n",
    "        w = w + step_size*g\n",
    "        w_history.append(w[0])\n",
    "    return w, w_history"
   ]
  },
  {
   "cell_type": "code",
   "execution_count": 485,
   "metadata": {},
   "outputs": [
    {
     "name": "stdout",
     "output_type": "stream",
     "text": [
      "[[ 0.28475336  0.29688541  2.68581147 -1.63624589  2.09915984]]\n"
     ]
    }
   ],
   "source": [
    "np.random.seed(482)\n",
    "wf, wh = sgvi(X_train, Y_train)\n",
    "print(wf)"
   ]
  },
  {
   "cell_type": "code",
   "execution_count": 486,
   "metadata": {},
   "outputs": [
    {
     "name": "stdout",
     "output_type": "stream",
     "text": [
      "[-34.60574516]\n",
      "[-0.30320871]\n"
     ]
    }
   ],
   "source": [
    "#### Evaluate Int estimator\n",
    "wo = np.zeros(X_train.shape[1])\n",
    "print(int_estimate(Y_train, X_train, wo, msize=100))\n",
    "print(int_estimate(Y_train, X_train, wf, msize=100))"
   ]
  },
  {
   "cell_type": "code",
   "execution_count": 487,
   "metadata": {},
   "outputs": [
    {
     "data": {
      "text/plain": [
       "(10001, 5)"
      ]
     },
     "execution_count": 487,
     "metadata": {},
     "output_type": "execute_result"
    }
   ],
   "source": [
    "wh = np.array(wh)\n",
    "wh.shape"
   ]
  },
  {
   "cell_type": "code",
   "execution_count": 488,
   "metadata": {},
   "outputs": [
    {
     "data": {
      "image/png": "[encoded data removed]",
      "text/plain": [
       "<Figure size 432x288 with 1 Axes>"
      ]
     },
     "metadata": {
      "needs_background": "light"
     },
     "output_type": "display_data"
    }
   ],
   "source": [
    "### Plot evolution of w\n",
    "for d in range(0, 5):\n",
    "    plt.plot(wh[:, d], label='{}'.format(d))\n",
    "plt.xlabel('Num Iterations')\n",
    "plt.ylabel('Weight')\n",
    "plt.legend()\n",
    "plt.title(\"Evolution of weights over time\")\n",
    "plt.savefig(\"evolq4.png\")\n",
    "plt.show()"
   ]
  }
 ],
 "metadata": {
  "kernelspec": {
   "display_name": "Python 3",
   "language": "python",
   "name": "python3"
  },
  "language_info": {
   "codemirror_mode": {
    "name": "ipython",
    "version": 3
   },
   "file_extension": ".py",
   "mimetype": "text/x-python",
   "name": "python",
   "nbconvert_exporter": "python",
   "pygments_lexer": "ipython3",
   "version": "3.7.6"
  }
 },
 "nbformat": 4,
 "nbformat_minor": 4
}
